{
 "cells": [
  {
   "cell_type": "code",
   "execution_count": 1,
   "id": "ca315cb5-1c4e-43fa-af13-a6fedcdcfc33",
   "metadata": {},
   "outputs": [],
   "source": [
    "import qcportal as ptl\n",
    "import tqdm\n",
    "import pathlib\n",
    "import numpy as np\n",
    "import pandas as pd\n",
    "import pyarrow as pa\n",
    "import pyarrow.parquet as pq\n",
    "import pyarrow.dataset as ds\n",
    "from offqcdata.profile import analyze_table"
   ]
  },
  {
   "cell_type": "code",
   "execution_count": 2,
   "id": "38ec2dee-7707-4437-9265-9b9721087c8a",
   "metadata": {},
   "outputs": [],
   "source": [
    "table_files = sorted(pathlib.Path(\"offqcdata/data/tables/optimization\").glob(\"*.parquet\"))"
   ]
  },
  {
   "cell_type": "code",
   "execution_count": 10,
   "id": "c17ea2a6-35ea-4fe1-8956-d24ea60030bf",
   "metadata": {},
   "outputs": [
    {
     "name": "stderr",
     "output_type": "stream",
     "text": [
      "  0%|                                                     | 0/1 [00:00<?, ?it/s]"
     ]
    },
    {
     "name": "stdout",
     "output_type": "stream",
     "text": [
      "offqcdata/data/tables/optimization/SPICE DES370k Monomers Lowest E Conformer Optimization Dataset v4.0.parquet\n",
      "pyarrow.Table\n",
      "\n",
      "----\n"
     ]
    },
    {
     "name": "stderr",
     "output_type": "stream",
     "text": [
      "\n"
     ]
    },
    {
     "ename": "KeyError",
     "evalue": "'Field \"smiles\" does not exist in schema'",
     "output_type": "error",
     "traceback": [
      "\u001b[31m---------------------------------------------------------------------------\u001b[39m",
      "\u001b[31mKeyError\u001b[39m                                  Traceback (most recent call last)",
      "\u001b[36mCell\u001b[39m\u001b[36m \u001b[39m\u001b[32mIn[10]\u001b[39m\u001b[32m, line 3\u001b[39m\n\u001b[32m      1\u001b[39m \u001b[38;5;28;01mfor\u001b[39;00m table_file \u001b[38;5;129;01min\u001b[39;00m tqdm.tqdm(table_files[\u001b[32m29\u001b[39m:\u001b[32m30\u001b[39m]):\n\u001b[32m      2\u001b[39m     \u001b[38;5;28mprint\u001b[39m(table_file)\n\u001b[32m----> \u001b[39m\u001b[32m3\u001b[39m     \u001b[43manalyze_table\u001b[49m\u001b[43m(\u001b[49m\u001b[43mtable_file\u001b[49m\u001b[43m,\u001b[49m\u001b[43m \u001b[49m\u001b[33;43m\"\u001b[39;49m\u001b[33;43moffqcdata/data/smiles\u001b[39;49m\u001b[33;43m\"\u001b[39;49m\u001b[43m)\u001b[49m\n",
      "\u001b[36mFile \u001b[39m\u001b[32m~/pydev/profile-qc-data/offqcdata/profile.py:58\u001b[39m, in \u001b[36manalyze_table\u001b[39m\u001b[34m(input_file, output_directory)\u001b[39m\n\u001b[32m     55\u001b[39m logger.info(\u001b[33mf\u001b[39m\u001b[33m\"\u001b[39m\u001b[33mLoaded \u001b[39m\u001b[38;5;132;01m{\u001b[39;00mtable.num_rows\u001b[38;5;132;01m}\u001b[39;00m\u001b[33m rows from \u001b[39m\u001b[38;5;132;01m{\u001b[39;00minput_file\u001b[38;5;132;01m}\u001b[39;00m\u001b[33m\"\u001b[39m)\n\u001b[32m     57\u001b[39m \u001b[38;5;66;03m# Get the unique smiles\u001b[39;00m\n\u001b[32m---> \u001b[39m\u001b[32m58\u001b[39m unique_smiles = \u001b[38;5;28mset\u001b[39m(pc.unique(\u001b[43mtable\u001b[49m\u001b[43m.\u001b[49m\u001b[43mcolumn\u001b[49m\u001b[43m(\u001b[49m\u001b[33;43m\"\u001b[39;49m\u001b[33;43msmiles\u001b[39;49m\u001b[33;43m\"\u001b[39;49m\u001b[43m)\u001b[49m))\n\u001b[32m     59\u001b[39m logger.info(\u001b[33mf\u001b[39m\u001b[33m\"\u001b[39m\u001b[33mLoaded \u001b[39m\u001b[38;5;132;01m{\u001b[39;00m\u001b[38;5;28mlen\u001b[39m(unique_smiles)\u001b[38;5;132;01m}\u001b[39;00m\u001b[33m unique smiles\u001b[39m\u001b[33m\"\u001b[39m)\n\u001b[32m     60\u001b[39m file_number = \u001b[32m0\u001b[39m\n",
      "\u001b[36mFile \u001b[39m\u001b[32m~/micromamba/envs/offqcdata-test/lib/python3.12/site-packages/pyarrow/table.pxi:1779\u001b[39m, in \u001b[36mpyarrow.lib._Tabular.column\u001b[39m\u001b[34m()\u001b[39m\n",
      "\u001b[36mFile \u001b[39m\u001b[32m~/micromamba/envs/offqcdata-test/lib/python3.12/site-packages/pyarrow/table.pxi:1715\u001b[39m, in \u001b[36mpyarrow.lib._Tabular._ensure_integer_index\u001b[39m\u001b[34m()\u001b[39m\n",
      "\u001b[31mKeyError\u001b[39m: 'Field \"smiles\" does not exist in schema'"
     ]
    }
   ],
   "source": [
    "for table_file in tqdm.tqdm(table_files[29:30]):\n",
    "    print(table_file)\n",
    "    analyze_table(table_file, \"offqcdata/data/smiles\")"
   ]
  },
  {
   "cell_type": "code",
   "execution_count": 5,
   "id": "3e8c8cfb-6981-4d14-b74b-8e2e4ddfea06",
   "metadata": {},
   "outputs": [
    {
     "name": "stderr",
     "output_type": "stream",
     "text": [
      " 20%|█████████                                    | 1/5 [00:02<00:10,  2.75s/it]/Users/lily/pydev/profile-qc-data/offqcdata/profile.py:29: UserWarning: Could not analyze SMILES: [Cl-]\n",
      "  warnings.warn(\n",
      " 40%|██████████████████                           | 2/5 [00:06<00:10,  3.34s/it]\n"
     ]
    },
    {
     "ename": "KeyError",
     "evalue": "'Field \"smiles\" does not exist in schema'",
     "output_type": "error",
     "traceback": [
      "\u001b[31m---------------------------------------------------------------------------\u001b[39m",
      "\u001b[31mKeyError\u001b[39m                                  Traceback (most recent call last)",
      "\u001b[36mCell\u001b[39m\u001b[36m \u001b[39m\u001b[32mIn[5]\u001b[39m\u001b[32m, line 2\u001b[39m\n\u001b[32m      1\u001b[39m \u001b[38;5;28;01mfor\u001b[39;00m table_file \u001b[38;5;129;01min\u001b[39;00m tqdm.tqdm(table_files[\u001b[32m27\u001b[39m:]):\n\u001b[32m----> \u001b[39m\u001b[32m2\u001b[39m     \u001b[43manalyze_table\u001b[49m\u001b[43m(\u001b[49m\u001b[43mtable_file\u001b[49m\u001b[43m,\u001b[49m\u001b[43m \u001b[49m\u001b[33;43m\"\u001b[39;49m\u001b[33;43moffqcdata/data/smiles\u001b[39;49m\u001b[33;43m\"\u001b[39;49m\u001b[43m)\u001b[49m\n",
      "\u001b[36mFile \u001b[39m\u001b[32m~/pydev/profile-qc-data/offqcdata/profile.py:57\u001b[39m, in \u001b[36manalyze_table\u001b[39m\u001b[34m(input_file, output_directory)\u001b[39m\n\u001b[32m     54\u001b[39m logger.info(\u001b[33mf\u001b[39m\u001b[33m\"\u001b[39m\u001b[33mLoaded \u001b[39m\u001b[38;5;132;01m{\u001b[39;00mtable.num_rows\u001b[38;5;132;01m}\u001b[39;00m\u001b[33m rows from \u001b[39m\u001b[38;5;132;01m{\u001b[39;00minput_file\u001b[38;5;132;01m}\u001b[39;00m\u001b[33m\"\u001b[39m)\n\u001b[32m     56\u001b[39m \u001b[38;5;66;03m# Get the unique smiles\u001b[39;00m\n\u001b[32m---> \u001b[39m\u001b[32m57\u001b[39m unique_smiles = \u001b[38;5;28mset\u001b[39m(pc.unique(\u001b[43mtable\u001b[49m\u001b[43m.\u001b[49m\u001b[43mcolumn\u001b[49m\u001b[43m(\u001b[49m\u001b[33;43m\"\u001b[39;49m\u001b[33;43msmiles\u001b[39;49m\u001b[33;43m\"\u001b[39;49m\u001b[43m)\u001b[49m))\n\u001b[32m     58\u001b[39m logger.info(\u001b[33mf\u001b[39m\u001b[33m\"\u001b[39m\u001b[33mLoaded \u001b[39m\u001b[38;5;132;01m{\u001b[39;00m\u001b[38;5;28mlen\u001b[39m(unique_smiles)\u001b[38;5;132;01m}\u001b[39;00m\u001b[33m unique smiles\u001b[39m\u001b[33m\"\u001b[39m)\n\u001b[32m     59\u001b[39m file_number = \u001b[32m0\u001b[39m\n",
      "\u001b[36mFile \u001b[39m\u001b[32m~/micromamba/envs/offqcdata-test/lib/python3.12/site-packages/pyarrow/table.pxi:1779\u001b[39m, in \u001b[36mpyarrow.lib._Tabular.column\u001b[39m\u001b[34m()\u001b[39m\n",
      "\u001b[36mFile \u001b[39m\u001b[32m~/micromamba/envs/offqcdata-test/lib/python3.12/site-packages/pyarrow/table.pxi:1715\u001b[39m, in \u001b[36mpyarrow.lib._Tabular._ensure_integer_index\u001b[39m\u001b[34m()\u001b[39m\n",
      "\u001b[31mKeyError\u001b[39m: 'Field \"smiles\" does not exist in schema'"
     ]
    }
   ],
   "source": [
    "for table_file in tqdm.tqdm(table_files[27:]):\n",
    "    analyze_table(table_file, \"offqcdata/data/smiles\")"
   ]
  },
  {
   "cell_type": "code",
   "execution_count": 8,
   "id": "42f8f17d-d996-4f79-98be-009c814355f5",
   "metadata": {},
   "outputs": [
    {
     "name": "stderr",
     "output_type": "stream",
     "text": [
      "100%|█████████████████████████████████████████████| 2/2 [03:15<00:00, 97.83s/it]\n"
     ]
    }
   ],
   "source": [
    "for table_file in tqdm.tqdm(table_files[30:]):\n",
    "    analyze_table(table_file, \"offqcdata/data/smiles\")"
   ]
  },
  {
   "cell_type": "code",
   "execution_count": null,
   "id": "ddc606f2-1e3d-4563-ae11-e388a2b9d35e",
   "metadata": {},
   "outputs": [],
   "source": []
  }
 ],
 "metadata": {
  "kernelspec": {
   "display_name": "Python (offqcdata-test)",
   "language": "python",
   "name": "offqcdata-test"
  },
  "language_info": {
   "codemirror_mode": {
    "name": "ipython",
    "version": 3
   },
   "file_extension": ".py",
   "mimetype": "text/x-python",
   "name": "python",
   "nbconvert_exporter": "python",
   "pygments_lexer": "ipython3",
   "version": "3.12.9"
  }
 },
 "nbformat": 4,
 "nbformat_minor": 5
}
